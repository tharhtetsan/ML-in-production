{
 "cells": [
  {
   "cell_type": "code",
   "execution_count": 20,
   "id": "17ca9f9f",
   "metadata": {},
   "outputs": [
    {
     "name": "stdout",
     "output_type": "stream",
     "text": [
      "Model: \"sequential\"\n",
      "_________________________________________________________________\n",
      " Layer (type)                Output Shape              Param #   \n",
      "=================================================================\n",
      " conv2d (Conv2D)             (None, 256, 256, 32)      896       \n",
      "                                                                 \n",
      " conv2d_1 (Conv2D)           (None, 256, 256, 32)      9248      \n",
      "                                                                 \n",
      " max_pooling2d (MaxPooling2D  (None, 128, 128, 32)     0         \n",
      " )                                                               \n",
      "                                                                 \n",
      " conv2d_2 (Conv2D)           (None, 128, 128, 64)      18496     \n",
      "                                                                 \n",
      " conv2d_3 (Conv2D)           (None, 128, 128, 64)      36928     \n",
      "                                                                 \n",
      " max_pooling2d_1 (MaxPooling  (None, 64, 64, 64)       0         \n",
      " 2D)                                                             \n",
      "                                                                 \n",
      " flatten (Flatten)           (None, 262144)            0         \n",
      "                                                                 \n",
      " dense (Dense)               (None, 128)               33554560  \n",
      "                                                                 \n",
      " dense_1 (Dense)             (None, 3)                 387       \n",
      "                                                                 \n",
      "=================================================================\n",
      "Total params: 33,620,515\n",
      "Trainable params: 33,620,515\n",
      "Non-trainable params: 0\n",
      "_________________________________________________________________\n"
     ]
    }
   ],
   "source": [
    "import tensorflow as tf\n",
    "model_path = \"hourse_car_person.h5\"\n",
    "tf_model =  tf.keras.models.load_model(model_path)\n",
    "tf_model.summary()"
   ]
  },
  {
   "cell_type": "code",
   "execution_count": 3,
   "id": "3e7a33c3",
   "metadata": {},
   "outputs": [],
   "source": [
    "import os\n",
    "train_path = os.getcwd()+\"\\\\dataset\\\\train\"\n",
    "validation_path = os.getcwd()+\"\\\\dataset\\\\val\""
   ]
  },
  {
   "cell_type": "code",
   "execution_count": 4,
   "id": "6484dab5",
   "metadata": {},
   "outputs": [
    {
     "name": "stdout",
     "output_type": "stream",
     "text": [
      "Found 540 images belonging to 3 classes.\n",
      "Found 60 images belonging to 3 classes.\n"
     ]
    }
   ],
   "source": [
    "from tensorflow.keras.preprocessing.image import ImageDataGenerator\n",
    "\n",
    "train_datagen = ImageDataGenerator( rescale = 1.0/255. )\n",
    "test_datagen  = ImageDataGenerator( rescale = 1.0/255. )\n",
    "\n",
    "train_generator = train_datagen.flow_from_directory(train_path,\n",
    "                                                    batch_size=20,\n",
    "                                                    class_mode='categorical',\n",
    "                                                    target_size=(256, 256))     \n",
    "\n",
    "validation_generator =  test_datagen.flow_from_directory(validation_path,\n",
    "                                                         batch_size=20,\n",
    "                                                         class_mode  = 'categorical',\n",
    "                                                         target_size=(256, 256))"
   ]
  },
  {
   "cell_type": "markdown",
   "id": "86510559",
   "metadata": {},
   "source": [
    "# Tensorflow model Acc"
   ]
  },
  {
   "cell_type": "code",
   "execution_count": null,
   "id": "ea8c7369",
   "metadata": {},
   "outputs": [],
   "source": [
    "\n",
    "import numpy as np\n",
    "class_label = ['car','hourse','person']\n",
    "true_labels = []\n",
    "predicted_labels = []\n",
    "\n",
    "import matplotlib.pyplot as plt\n",
    "\n",
    "count = 0\n",
    "for image,label in validation_generator:\n",
    "    \n",
    "    \n",
    "    \n",
    "    predicted_temp = tf_model.predict(image)\n",
    "    for i in range(len(label)):\n",
    "        true_labels.append(class_label[np.argmax(label[i])])\n",
    "        predicted_labels.append(class_label[np.argmax(predicted_temp[i])])\n",
    "        \n",
    "\n",
    "    count = count+1\n",
    "    if count > 2:\n",
    "        break\n",
    "    \n",
    "test_accuracy = 100 * np.sum(np.array(predicted_labels)==true_labels) / len(predicted_labels)\n",
    "print(\"TF model Test accuracy : {}\".format(test_accuracy))"
   ]
  },
  {
   "cell_type": "code",
   "execution_count": null,
   "id": "7ce9aff3",
   "metadata": {},
   "outputs": [],
   "source": []
  },
  {
   "cell_type": "markdown",
   "id": "3ff563e2",
   "metadata": {},
   "source": [
    "## TF model -> tflite model"
   ]
  },
  {
   "cell_type": "code",
   "execution_count": 10,
   "id": "cf5708cf",
   "metadata": {},
   "outputs": [
    {
     "name": "stderr",
     "output_type": "stream",
     "text": [
      "WARNING:absl:Found untraced functions such as _jit_compiled_convolution_op, _jit_compiled_convolution_op, _jit_compiled_convolution_op, _jit_compiled_convolution_op while saving (showing 4 of 4). These functions will not be directly callable after loading.\n"
     ]
    },
    {
     "name": "stdout",
     "output_type": "stream",
     "text": [
      "INFO:tensorflow:Assets written to: C:\\Users\\tharh\\AppData\\Local\\Temp\\tmp2lxp6ygb\\assets\n"
     ]
    },
    {
     "name": "stderr",
     "output_type": "stream",
     "text": [
      "INFO:tensorflow:Assets written to: C:\\Users\\tharh\\AppData\\Local\\Temp\\tmp2lxp6ygb\\assets\n"
     ]
    }
   ],
   "source": [
    "\n",
    "# Convert the model.\n",
    "converter = tf.lite.TFLiteConverter.from_keras_model(tf_model)\n",
    "tflite_model = converter.convert()\n",
    "\n",
    "with open('hourse_car_person.tflite', 'wb') as f:\n",
    "  f.write(tflite_model)"
   ]
  },
  {
   "cell_type": "code",
   "execution_count": null,
   "id": "ba265c48",
   "metadata": {},
   "outputs": [],
   "source": []
  },
  {
   "cell_type": "code",
   "execution_count": null,
   "id": "04153ccd",
   "metadata": {},
   "outputs": [],
   "source": []
  },
  {
   "cell_type": "code",
   "execution_count": 34,
   "id": "50ea0f72",
   "metadata": {},
   "outputs": [
    {
     "name": "stdout",
     "output_type": "stream",
     "text": [
      "== Input details ==\n",
      "name: serving_default_conv2d_input:0\n",
      "shape: [  1 256 256   3]\n",
      "type: <class 'numpy.float32'>\n",
      "\n",
      "== Output details ==\n",
      "name: StatefulPartitionedCall:0\n",
      "shape: [1 3]\n",
      "type: <class 'numpy.float32'>\n"
     ]
    }
   ],
   "source": [
    "# Load TFLite model and see some details about input/output\n",
    "\n",
    "tflite_interpreter = tf.lite.Interpreter(model_path=\"hourse_car_person.tflite\")\n",
    "tflite_interpreter.allocate_tensors()\n",
    "\n",
    "input_details = tflite_interpreter.get_input_details()\n",
    "output_details = tflite_interpreter.get_output_details()\n",
    "\n",
    "print(\"== Input details ==\")\n",
    "print(\"name:\", input_details[0]['name'])\n",
    "print(\"shape:\", input_details[0]['shape'])\n",
    "print(\"type:\", input_details[0]['dtype'])\n",
    "\n",
    "print(\"\\n== Output details ==\")\n",
    "print(\"name:\", output_details[0]['name'])\n",
    "print(\"shape:\", output_details[0]['shape'])\n",
    "print(\"type:\", output_details[0]['dtype'])"
   ]
  },
  {
   "cell_type": "code",
   "execution_count": 42,
   "id": "14a0d399",
   "metadata": {},
   "outputs": [
    {
     "name": "stdout",
     "output_type": "stream",
     "text": [
      "TF lite model Test accuracy : 75.0\n"
     ]
    }
   ],
   "source": [
    "import numpy as np\n",
    "class_label = ['car','hourse','person']\n",
    "true_labels = []\n",
    "predicted_labels = []\n",
    "\n",
    "\n",
    "count = 0\n",
    "for image,label in validation_generator:\n",
    "    \n",
    "    \n",
    "    \n",
    "\n",
    "    for i in range(len(label)):\n",
    "        current_image = image[i]\n",
    "        #print(current_image.shape)\n",
    "        current_image = np.array([current_image])\n",
    "        #print(current_image.shape)\n",
    "        \n",
    "        # Run inference\n",
    "        tflite_interpreter.set_tensor(input_details[0]['index'], current_image)\n",
    "        tflite_interpreter.invoke()\n",
    "        tflite_model_predictions = tflite_interpreter.get_tensor(output_details[0]['index'])\n",
    "        #print(\"Prediction results shape:\", tflite_model_predictions.shape)\n",
    "       \n",
    "        true_labels.append(class_label[np.argmax(label[i])])\n",
    "        predicted_labels.append(class_label[np.argmax(tflite_model_predictions[0])])\n",
    "        \n",
    "\n",
    "    count = count+1\n",
    "    if count > 2:\n",
    "        break\n",
    "        \n",
    "test_accuracy = 100 * np.sum(np.array(predicted_labels)==true_labels) / len(predicted_labels)\n",
    "print(\"TF lite model Test accuracy : {}\".format(test_accuracy))"
   ]
  },
  {
   "cell_type": "code",
   "execution_count": null,
   "id": "db98bdb8",
   "metadata": {},
   "outputs": [],
   "source": []
  }
 ],
 "metadata": {
  "kernelspec": {
   "display_name": "Python 3 (ipykernel)",
   "language": "python",
   "name": "python3"
  },
  "language_info": {
   "codemirror_mode": {
    "name": "ipython",
    "version": 3
   },
   "file_extension": ".py",
   "mimetype": "text/x-python",
   "name": "python",
   "nbconvert_exporter": "python",
   "pygments_lexer": "ipython3",
   "version": "3.9.16"
  }
 },
 "nbformat": 4,
 "nbformat_minor": 5
}
